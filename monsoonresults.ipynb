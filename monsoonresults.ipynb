{
  "nbformat": 4,
  "nbformat_minor": 0,
  "metadata": {
    "colab": {
      "name": "monsoonresults.ipynb",
      "version": "0.3.2",
      "provenance": [],
      "collapsed_sections": [],
      "toc_visible": true
    },
    "kernelspec": {
      "name": "python3",
      "display_name": "Python 3"
    }
  },
  "cells": [
    {
      "cell_type": "code",
      "metadata": {
        "id": "2a6u5BPigxIk",
        "colab_type": "code",
        "colab": {}
      },
      "source": [
        "import pandas as pd\n",
        "import numpy as np"
      ],
      "execution_count": 0,
      "outputs": []
    },
    {
      "cell_type": "code",
      "metadata": {
        "id": "Z3WVkCP0h8id",
        "colab_type": "code",
        "colab": {}
      },
      "source": [
        "df = pd.read_csv(\"monsoon_results.csv\")"
      ],
      "execution_count": 0,
      "outputs": []
    },
    {
      "cell_type": "code",
      "metadata": {
        "id": "E9PKjgEu-Zz1",
        "colab_type": "code",
        "colab": {
          "base_uri": "https://localhost:8080/",
          "height": 68
        },
        "outputId": "abe5af53-4a8b-4105-e639-0246a4cd0594"
      },
      "source": [
        "df.columns"
      ],
      "execution_count": 7,
      "outputs": [
        {
          "output_type": "execute_result",
          "data": {
            "text/plain": [
              "Index(['Year', 'Obsv', 'Pred', 'View', 'Rank', 'Skip', 'Density', 'Convg',\n",
              "       'Root'],\n",
              "      dtype='object')"
            ]
          },
          "metadata": {
            "tags": []
          },
          "execution_count": 7
        }
      ]
    },
    {
      "cell_type": "code",
      "metadata": {
        "id": "kYwugs75-kK_",
        "colab_type": "code",
        "colab": {}
      },
      "source": [
        "df['Diff'] = abs(df.Obsv-df.Pred)"
      ],
      "execution_count": 0,
      "outputs": []
    },
    {
      "cell_type": "code",
      "metadata": {
        "id": "4gd-6Dmi-uqC",
        "colab_type": "code",
        "colab": {}
      },
      "source": [
        "df = df.sort_values('Diff')"
      ],
      "execution_count": 0,
      "outputs": []
    },
    {
      "cell_type": "code",
      "metadata": {
        "id": "Snov09eIKpr9",
        "colab_type": "code",
        "colab": {
          "base_uri": "https://localhost:8080/",
          "height": 1134
        },
        "outputId": "a6f098d0-74c2-4ffd-ffbf-b317f4d8f9a7"
      },
      "source": [
        "df"
      ],
      "execution_count": 35,
      "outputs": [
        {
          "output_type": "execute_result",
          "data": {
            "text/html": [
              "<div>\n",
              "<style scoped>\n",
              "    .dataframe tbody tr th:only-of-type {\n",
              "        vertical-align: middle;\n",
              "    }\n",
              "\n",
              "    .dataframe tbody tr th {\n",
              "        vertical-align: top;\n",
              "    }\n",
              "\n",
              "    .dataframe thead th {\n",
              "        text-align: right;\n",
              "    }\n",
              "</style>\n",
              "<table border=\"1\" class=\"dataframe\">\n",
              "  <thead>\n",
              "    <tr style=\"text-align: right;\">\n",
              "      <th></th>\n",
              "      <th>Year</th>\n",
              "      <th>Obsv</th>\n",
              "      <th>Pred</th>\n",
              "      <th>View</th>\n",
              "      <th>Rank</th>\n",
              "      <th>Skip</th>\n",
              "      <th>Density</th>\n",
              "      <th>Convg</th>\n",
              "      <th>Root</th>\n",
              "      <th>Diff</th>\n",
              "    </tr>\n",
              "  </thead>\n",
              "  <tbody>\n",
              "    <tr>\n",
              "      <th>20</th>\n",
              "      <td>2014</td>\n",
              "      <td>8.91</td>\n",
              "      <td>8.94</td>\n",
              "      <td>40</td>\n",
              "      <td>4</td>\n",
              "      <td>4</td>\n",
              "      <td>18</td>\n",
              "      <td>6</td>\n",
              "      <td>8.800</td>\n",
              "      <td>0.03</td>\n",
              "    </tr>\n",
              "    <tr>\n",
              "      <th>15</th>\n",
              "      <td>2011</td>\n",
              "      <td>8.33</td>\n",
              "      <td>8.36</td>\n",
              "      <td>40</td>\n",
              "      <td>4</td>\n",
              "      <td>4</td>\n",
              "      <td>5</td>\n",
              "      <td>19</td>\n",
              "      <td>8.000</td>\n",
              "      <td>0.03</td>\n",
              "    </tr>\n",
              "    <tr>\n",
              "      <th>14</th>\n",
              "      <td>2009</td>\n",
              "      <td>8.10</td>\n",
              "      <td>8.14</td>\n",
              "      <td>40</td>\n",
              "      <td>4</td>\n",
              "      <td>4</td>\n",
              "      <td>2</td>\n",
              "      <td>29</td>\n",
              "      <td>8.150</td>\n",
              "      <td>0.04</td>\n",
              "    </tr>\n",
              "    <tr>\n",
              "      <th>26</th>\n",
              "      <td>2016</td>\n",
              "      <td>10.07</td>\n",
              "      <td>10.12</td>\n",
              "      <td>40,50</td>\n",
              "      <td>4</td>\n",
              "      <td>4</td>\n",
              "      <td>26</td>\n",
              "      <td>3</td>\n",
              "      <td>10.100</td>\n",
              "      <td>0.05</td>\n",
              "    </tr>\n",
              "    <tr>\n",
              "      <th>27</th>\n",
              "      <td>2016</td>\n",
              "      <td>9.85</td>\n",
              "      <td>9.78</td>\n",
              "      <td>40</td>\n",
              "      <td>4</td>\n",
              "      <td>4</td>\n",
              "      <td>27</td>\n",
              "      <td>6</td>\n",
              "      <td>9.600</td>\n",
              "      <td>0.07</td>\n",
              "    </tr>\n",
              "    <tr>\n",
              "      <th>7</th>\n",
              "      <td>2004</td>\n",
              "      <td>10.09</td>\n",
              "      <td>10.17</td>\n",
              "      <td>50</td>\n",
              "      <td>4</td>\n",
              "      <td>2,3</td>\n",
              "      <td>21</td>\n",
              "      <td>5</td>\n",
              "      <td>10.600</td>\n",
              "      <td>0.08</td>\n",
              "    </tr>\n",
              "    <tr>\n",
              "      <th>21</th>\n",
              "      <td>2014</td>\n",
              "      <td>8.91</td>\n",
              "      <td>8.99</td>\n",
              "      <td>40</td>\n",
              "      <td>4</td>\n",
              "      <td>4</td>\n",
              "      <td>18</td>\n",
              "      <td>6</td>\n",
              "      <td>8.950</td>\n",
              "      <td>0.08</td>\n",
              "    </tr>\n",
              "    <tr>\n",
              "      <th>18</th>\n",
              "      <td>2013</td>\n",
              "      <td>10.20</td>\n",
              "      <td>10.11</td>\n",
              "      <td>4</td>\n",
              "      <td>4</td>\n",
              "      <td>1,2</td>\n",
              "      <td>1</td>\n",
              "      <td>2</td>\n",
              "      <td>10.000</td>\n",
              "      <td>0.09</td>\n",
              "    </tr>\n",
              "    <tr>\n",
              "      <th>8</th>\n",
              "      <td>2006</td>\n",
              "      <td>10.07</td>\n",
              "      <td>10.17</td>\n",
              "      <td>50</td>\n",
              "      <td>4</td>\n",
              "      <td>4</td>\n",
              "      <td>19</td>\n",
              "      <td>5</td>\n",
              "      <td>9.500</td>\n",
              "      <td>0.10</td>\n",
              "    </tr>\n",
              "    <tr>\n",
              "      <th>32</th>\n",
              "      <td>2018</td>\n",
              "      <td>8.41</td>\n",
              "      <td>8.30</td>\n",
              "      <td>40,50</td>\n",
              "      <td>4</td>\n",
              "      <td>4</td>\n",
              "      <td>9</td>\n",
              "      <td>1</td>\n",
              "      <td>8.400</td>\n",
              "      <td>0.11</td>\n",
              "    </tr>\n",
              "    <tr>\n",
              "      <th>3</th>\n",
              "      <td>2002</td>\n",
              "      <td>4.31</td>\n",
              "      <td>4.42</td>\n",
              "      <td>40</td>\n",
              "      <td>4</td>\n",
              "      <td>4</td>\n",
              "      <td>2</td>\n",
              "      <td>22</td>\n",
              "      <td>4.500</td>\n",
              "      <td>0.11</td>\n",
              "    </tr>\n",
              "    <tr>\n",
              "      <th>22</th>\n",
              "      <td>2014</td>\n",
              "      <td>9.31</td>\n",
              "      <td>9.44</td>\n",
              "      <td>40</td>\n",
              "      <td>4</td>\n",
              "      <td>4</td>\n",
              "      <td>8</td>\n",
              "      <td>3</td>\n",
              "      <td>9.150</td>\n",
              "      <td>0.13</td>\n",
              "    </tr>\n",
              "    <tr>\n",
              "      <th>2</th>\n",
              "      <td>2002</td>\n",
              "      <td>4.57</td>\n",
              "      <td>4.42</td>\n",
              "      <td>40,50</td>\n",
              "      <td>4</td>\n",
              "      <td>2,3</td>\n",
              "      <td>1</td>\n",
              "      <td>41</td>\n",
              "      <td>4.500</td>\n",
              "      <td>0.15</td>\n",
              "    </tr>\n",
              "    <tr>\n",
              "      <th>19</th>\n",
              "      <td>2013</td>\n",
              "      <td>10.16</td>\n",
              "      <td>10.01</td>\n",
              "      <td>40</td>\n",
              "      <td>4</td>\n",
              "      <td>4</td>\n",
              "      <td>2</td>\n",
              "      <td>20</td>\n",
              "      <td>9.900</td>\n",
              "      <td>0.15</td>\n",
              "    </tr>\n",
              "    <tr>\n",
              "      <th>11</th>\n",
              "      <td>2007</td>\n",
              "      <td>9.48</td>\n",
              "      <td>9.64</td>\n",
              "      <td>40</td>\n",
              "      <td>4</td>\n",
              "      <td>4</td>\n",
              "      <td>19</td>\n",
              "      <td>1</td>\n",
              "      <td>10.000</td>\n",
              "      <td>0.16</td>\n",
              "    </tr>\n",
              "    <tr>\n",
              "      <th>33</th>\n",
              "      <td>2018</td>\n",
              "      <td>8.33</td>\n",
              "      <td>8.50</td>\n",
              "      <td>40,50</td>\n",
              "      <td>4</td>\n",
              "      <td>4</td>\n",
              "      <td>10</td>\n",
              "      <td>11</td>\n",
              "      <td>8.400</td>\n",
              "      <td>0.17</td>\n",
              "    </tr>\n",
              "    <tr>\n",
              "      <th>28</th>\n",
              "      <td>2016</td>\n",
              "      <td>9.94</td>\n",
              "      <td>10.12</td>\n",
              "      <td>40,50</td>\n",
              "      <td>4</td>\n",
              "      <td>4</td>\n",
              "      <td>29</td>\n",
              "      <td>3</td>\n",
              "      <td>10.500</td>\n",
              "      <td>0.18</td>\n",
              "    </tr>\n",
              "    <tr>\n",
              "      <th>10</th>\n",
              "      <td>2007</td>\n",
              "      <td>9.23</td>\n",
              "      <td>9.41</td>\n",
              "      <td>4</td>\n",
              "      <td>1,2</td>\n",
              "      <td>2,3</td>\n",
              "      <td>10</td>\n",
              "      <td>1</td>\n",
              "      <td>9.750</td>\n",
              "      <td>0.18</td>\n",
              "    </tr>\n",
              "    <tr>\n",
              "      <th>9</th>\n",
              "      <td>2007</td>\n",
              "      <td>9.22</td>\n",
              "      <td>9.41</td>\n",
              "      <td>4</td>\n",
              "      <td>4</td>\n",
              "      <td>4</td>\n",
              "      <td>16</td>\n",
              "      <td>1</td>\n",
              "      <td>9.750</td>\n",
              "      <td>0.19</td>\n",
              "    </tr>\n",
              "    <tr>\n",
              "      <th>24</th>\n",
              "      <td>2015</td>\n",
              "      <td>8.52</td>\n",
              "      <td>8.33</td>\n",
              "      <td>40</td>\n",
              "      <td>4</td>\n",
              "      <td>1</td>\n",
              "      <td>3</td>\n",
              "      <td>43</td>\n",
              "      <td>8.600</td>\n",
              "      <td>0.19</td>\n",
              "    </tr>\n",
              "    <tr>\n",
              "      <th>25</th>\n",
              "      <td>2015</td>\n",
              "      <td>8.52</td>\n",
              "      <td>8.33</td>\n",
              "      <td>50</td>\n",
              "      <td>4</td>\n",
              "      <td>1</td>\n",
              "      <td>20</td>\n",
              "      <td>10</td>\n",
              "      <td>8.115</td>\n",
              "      <td>0.19</td>\n",
              "    </tr>\n",
              "    <tr>\n",
              "      <th>12</th>\n",
              "      <td>2008</td>\n",
              "      <td>9.15</td>\n",
              "      <td>9.35</td>\n",
              "      <td>40,50</td>\n",
              "      <td>4</td>\n",
              "      <td>4</td>\n",
              "      <td>3</td>\n",
              "      <td>37</td>\n",
              "      <td>9.700</td>\n",
              "      <td>0.20</td>\n",
              "    </tr>\n",
              "    <tr>\n",
              "      <th>31</th>\n",
              "      <td>2017</td>\n",
              "      <td>9.04</td>\n",
              "      <td>9.25</td>\n",
              "      <td>4</td>\n",
              "      <td>4</td>\n",
              "      <td>4</td>\n",
              "      <td>2</td>\n",
              "      <td>8</td>\n",
              "      <td>9.300</td>\n",
              "      <td>0.21</td>\n",
              "    </tr>\n",
              "    <tr>\n",
              "      <th>0</th>\n",
              "      <td>2000</td>\n",
              "      <td>9.87</td>\n",
              "      <td>10.10</td>\n",
              "      <td>40,50</td>\n",
              "      <td>4</td>\n",
              "      <td>4</td>\n",
              "      <td>4</td>\n",
              "      <td>15</td>\n",
              "      <td>10.200</td>\n",
              "      <td>0.23</td>\n",
              "    </tr>\n",
              "    <tr>\n",
              "      <th>6</th>\n",
              "      <td>2004</td>\n",
              "      <td>9.63</td>\n",
              "      <td>9.88</td>\n",
              "      <td>80</td>\n",
              "      <td>1,2</td>\n",
              "      <td>1</td>\n",
              "      <td>3</td>\n",
              "      <td>2</td>\n",
              "      <td>9.850</td>\n",
              "      <td>0.25</td>\n",
              "    </tr>\n",
              "    <tr>\n",
              "      <th>1</th>\n",
              "      <td>2001</td>\n",
              "      <td>8.01</td>\n",
              "      <td>7.76</td>\n",
              "      <td>40</td>\n",
              "      <td>4</td>\n",
              "      <td>1</td>\n",
              "      <td>7</td>\n",
              "      <td>7</td>\n",
              "      <td>8.500</td>\n",
              "      <td>0.25</td>\n",
              "    </tr>\n",
              "    <tr>\n",
              "      <th>29</th>\n",
              "      <td>2017</td>\n",
              "      <td>8.96</td>\n",
              "      <td>9.21</td>\n",
              "      <td>50</td>\n",
              "      <td>4</td>\n",
              "      <td>4</td>\n",
              "      <td>1</td>\n",
              "      <td>36</td>\n",
              "      <td>9.450</td>\n",
              "      <td>0.25</td>\n",
              "    </tr>\n",
              "    <tr>\n",
              "      <th>30</th>\n",
              "      <td>2017</td>\n",
              "      <td>8.96</td>\n",
              "      <td>9.21</td>\n",
              "      <td>80</td>\n",
              "      <td>4</td>\n",
              "      <td>4</td>\n",
              "      <td>4</td>\n",
              "      <td>35</td>\n",
              "      <td>8.500</td>\n",
              "      <td>0.25</td>\n",
              "    </tr>\n",
              "    <tr>\n",
              "      <th>17</th>\n",
              "      <td>2012</td>\n",
              "      <td>8.48</td>\n",
              "      <td>8.21</td>\n",
              "      <td>4</td>\n",
              "      <td>4</td>\n",
              "      <td>4</td>\n",
              "      <td>6</td>\n",
              "      <td>3</td>\n",
              "      <td>8.750</td>\n",
              "      <td>0.27</td>\n",
              "    </tr>\n",
              "    <tr>\n",
              "      <th>13</th>\n",
              "      <td>2008</td>\n",
              "      <td>8.99</td>\n",
              "      <td>9.27</td>\n",
              "      <td>4</td>\n",
              "      <td>4</td>\n",
              "      <td>4</td>\n",
              "      <td>6</td>\n",
              "      <td>1</td>\n",
              "      <td>9.750</td>\n",
              "      <td>0.28</td>\n",
              "    </tr>\n",
              "    <tr>\n",
              "      <th>4</th>\n",
              "      <td>2003</td>\n",
              "      <td>10.40</td>\n",
              "      <td>10.10</td>\n",
              "      <td>80</td>\n",
              "      <td>4</td>\n",
              "      <td>4</td>\n",
              "      <td>9</td>\n",
              "      <td>11</td>\n",
              "      <td>9.700</td>\n",
              "      <td>0.30</td>\n",
              "    </tr>\n",
              "    <tr>\n",
              "      <th>16</th>\n",
              "      <td>2012</td>\n",
              "      <td>8.74</td>\n",
              "      <td>8.42</td>\n",
              "      <td>40</td>\n",
              "      <td>4</td>\n",
              "      <td>1,2</td>\n",
              "      <td>10</td>\n",
              "      <td>4</td>\n",
              "      <td>8.750</td>\n",
              "      <td>0.32</td>\n",
              "    </tr>\n",
              "    <tr>\n",
              "      <th>5</th>\n",
              "      <td>2003</td>\n",
              "      <td>10.47</td>\n",
              "      <td>10.10</td>\n",
              "      <td>80</td>\n",
              "      <td>4</td>\n",
              "      <td>4</td>\n",
              "      <td>8</td>\n",
              "      <td>14</td>\n",
              "      <td>9.600</td>\n",
              "      <td>0.37</td>\n",
              "    </tr>\n",
              "    <tr>\n",
              "      <th>34</th>\n",
              "      <td>2018</td>\n",
              "      <td>8.41</td>\n",
              "      <td>8.80</td>\n",
              "      <td>40,50</td>\n",
              "      <td>4</td>\n",
              "      <td>4</td>\n",
              "      <td>6</td>\n",
              "      <td>10</td>\n",
              "      <td>8.750</td>\n",
              "      <td>0.39</td>\n",
              "    </tr>\n",
              "    <tr>\n",
              "      <th>23</th>\n",
              "      <td>2015</td>\n",
              "      <td>8.52</td>\n",
              "      <td>8.96</td>\n",
              "      <td>40</td>\n",
              "      <td>4</td>\n",
              "      <td>1</td>\n",
              "      <td>21</td>\n",
              "      <td>2</td>\n",
              "      <td>9.250</td>\n",
              "      <td>0.44</td>\n",
              "    </tr>\n",
              "  </tbody>\n",
              "</table>\n",
              "</div>"
            ],
            "text/plain": [
              "    Year   Obsv   Pred   View Rank Skip  Density  Convg    Root  Diff\n",
              "20  2014   8.91   8.94     40    4    4       18      6   8.800  0.03\n",
              "15  2011   8.33   8.36     40    4    4        5     19   8.000  0.03\n",
              "14  2009   8.10   8.14     40    4    4        2     29   8.150  0.04\n",
              "26  2016  10.07  10.12  40,50    4    4       26      3  10.100  0.05\n",
              "27  2016   9.85   9.78     40    4    4       27      6   9.600  0.07\n",
              "7   2004  10.09  10.17     50    4  2,3       21      5  10.600  0.08\n",
              "21  2014   8.91   8.99     40    4    4       18      6   8.950  0.08\n",
              "18  2013  10.20  10.11      4    4  1,2        1      2  10.000  0.09\n",
              "8   2006  10.07  10.17     50    4    4       19      5   9.500  0.10\n",
              "32  2018   8.41   8.30  40,50    4    4        9      1   8.400  0.11\n",
              "3   2002   4.31   4.42     40    4    4        2     22   4.500  0.11\n",
              "22  2014   9.31   9.44     40    4    4        8      3   9.150  0.13\n",
              "2   2002   4.57   4.42  40,50    4  2,3        1     41   4.500  0.15\n",
              "19  2013  10.16  10.01     40    4    4        2     20   9.900  0.15\n",
              "11  2007   9.48   9.64     40    4    4       19      1  10.000  0.16\n",
              "33  2018   8.33   8.50  40,50    4    4       10     11   8.400  0.17\n",
              "28  2016   9.94  10.12  40,50    4    4       29      3  10.500  0.18\n",
              "10  2007   9.23   9.41      4  1,2  2,3       10      1   9.750  0.18\n",
              "9   2007   9.22   9.41      4    4    4       16      1   9.750  0.19\n",
              "24  2015   8.52   8.33     40    4    1        3     43   8.600  0.19\n",
              "25  2015   8.52   8.33     50    4    1       20     10   8.115  0.19\n",
              "12  2008   9.15   9.35  40,50    4    4        3     37   9.700  0.20\n",
              "31  2017   9.04   9.25      4    4    4        2      8   9.300  0.21\n",
              "0   2000   9.87  10.10  40,50    4    4        4     15  10.200  0.23\n",
              "6   2004   9.63   9.88     80  1,2    1        3      2   9.850  0.25\n",
              "1   2001   8.01   7.76     40    4    1        7      7   8.500  0.25\n",
              "29  2017   8.96   9.21     50    4    4        1     36   9.450  0.25\n",
              "30  2017   8.96   9.21     80    4    4        4     35   8.500  0.25\n",
              "17  2012   8.48   8.21      4    4    4        6      3   8.750  0.27\n",
              "13  2008   8.99   9.27      4    4    4        6      1   9.750  0.28\n",
              "4   2003  10.40  10.10     80    4    4        9     11   9.700  0.30\n",
              "16  2012   8.74   8.42     40    4  1,2       10      4   8.750  0.32\n",
              "5   2003  10.47  10.10     80    4    4        8     14   9.600  0.37\n",
              "34  2018   8.41   8.80  40,50    4    4        6     10   8.750  0.39\n",
              "23  2015   8.52   8.96     40    4    1       21      2   9.250  0.44"
            ]
          },
          "metadata": {
            "tags": []
          },
          "execution_count": 35
        }
      ]
    },
    {
      "cell_type": "code",
      "metadata": {
        "id": "pizJRXpZ_CgN",
        "colab_type": "code",
        "colab": {}
      },
      "source": [
        "for cols in df:\n",
        "  print(df[cols].value_counts())"
      ],
      "execution_count": 0,
      "outputs": []
    },
    {
      "cell_type": "code",
      "metadata": {
        "id": "mo05MyOI_Udy",
        "colab_type": "code",
        "colab": {}
      },
      "source": [
        "import matplotlib.pyplot as plt"
      ],
      "execution_count": 0,
      "outputs": []
    },
    {
      "cell_type": "code",
      "metadata": {
        "id": "LGS5XASsHpqn",
        "colab_type": "code",
        "colab": {
          "base_uri": "https://localhost:8080/",
          "height": 388
        },
        "outputId": "cbba8cf1-6fc5-4b3e-f48c-8c2b34049307"
      },
      "source": [
        "print(df.View.value_counts())\n",
        "plt.bar(df.View.value_counts().index, df.View.value_counts().values)"
      ],
      "execution_count": 17,
      "outputs": [
        {
          "output_type": "stream",
          "text": [
            "40       13\n",
            "40,50     8\n",
            "4         6\n",
            "80        4\n",
            "50        4\n",
            "Name: View, dtype: int64\n"
          ],
          "name": "stdout"
        },
        {
          "output_type": "execute_result",
          "data": {
            "text/plain": [
              "<BarContainer object of 5 artists>"
            ]
          },
          "metadata": {
            "tags": []
          },
          "execution_count": 17
        },
        {
          "output_type": "display_data",
          "data": {
            "image/png": "[encoded data removed]",
            "text/plain": [
              "<Figure size 432x288 with 1 Axes>"
            ]
          },
          "metadata": {
            "tags": []
          }
        }
      ]
    },
    {
      "cell_type": "code",
      "metadata": {
        "id": "fyo8ONDmINud",
        "colab_type": "code",
        "colab": {
          "base_uri": "https://localhost:8080/",
          "height": 337
        },
        "outputId": "176587ab-54e1-4f11-ab5a-3245f45a7565"
      },
      "source": [
        "print(df.Rank.value_counts())\n",
        "plt.bar(df.Rank.value_counts().index, df.Rank.value_counts().values)"
      ],
      "execution_count": 19,
      "outputs": [
        {
          "output_type": "stream",
          "text": [
            "4      33\n",
            "1,2     2\n",
            "Name: Rank, dtype: int64\n"
          ],
          "name": "stdout"
        },
        {
          "output_type": "execute_result",
          "data": {
            "text/plain": [
              "<BarContainer object of 2 artists>"
            ]
          },
          "metadata": {
            "tags": []
          },
          "execution_count": 19
        },
        {
          "output_type": "display_data",
          "data": {
            "image/png": "[encoded data removed]",
            "text/plain": [
              "<Figure size 432x288 with 1 Axes>"
            ]
          },
          "metadata": {
            "tags": []
          }
        }
      ]
    },
    {
      "cell_type": "code",
      "metadata": {
        "id": "D5mHoIGrIrCT",
        "colab_type": "code",
        "colab": {
          "base_uri": "https://localhost:8080/",
          "height": 371
        },
        "outputId": "56dba7ba-2d7c-4f4f-c4d9-d18925b57221"
      },
      "source": [
        "print(df.Skip.value_counts())\n",
        "plt.bar(df.Skip.value_counts().index, df.Skip.value_counts().values)"
      ],
      "execution_count": 20,
      "outputs": [
        {
          "output_type": "stream",
          "text": [
            "4      25\n",
            "1       5\n",
            "2,3     3\n",
            "1,2     2\n",
            "Name: Skip, dtype: int64\n"
          ],
          "name": "stdout"
        },
        {
          "output_type": "execute_result",
          "data": {
            "text/plain": [
              "<BarContainer object of 4 artists>"
            ]
          },
          "metadata": {
            "tags": []
          },
          "execution_count": 20
        },
        {
          "output_type": "display_data",
          "data": {
            "image/png": "[encoded data removed]",
            "text/plain": [
              "<Figure size 432x288 with 1 Axes>"
            ]
          },
          "metadata": {
            "tags": []
          }
        }
      ]
    },
    {
      "cell_type": "code",
      "metadata": {
        "id": "NjeWHuP8I1Be",
        "colab_type": "code",
        "colab": {
          "base_uri": "https://localhost:8080/",
          "height": 643
        },
        "outputId": "801c8f6d-1634-46d0-c8c1-82b260b4cf26"
      },
      "source": [
        "print(df.Density.value_counts())\n",
        "plt.hist(df.Density)"
      ],
      "execution_count": 30,
      "outputs": [
        {
          "output_type": "stream",
          "text": [
            "2     4\n",
            "1     3\n",
            "10    3\n",
            "3     3\n",
            "6     3\n",
            "4     2\n",
            "8     2\n",
            "9     2\n",
            "18    2\n",
            "19    2\n",
            "21    2\n",
            "16    1\n",
            "27    1\n",
            "7     1\n",
            "5     1\n",
            "20    1\n",
            "26    1\n",
            "29    1\n",
            "Name: Density, dtype: int64\n"
          ],
          "name": "stdout"
        },
        {
          "output_type": "execute_result",
          "data": {
            "text/plain": [
              "(array([10.,  6.,  5.,  3.,  0.,  1.,  5.,  2.,  1.,  2.]),\n",
              " array([ 1. ,  3.8,  6.6,  9.4, 12.2, 15. , 17.8, 20.6, 23.4, 26.2, 29. ]),\n",
              " <a list of 10 Patch objects>)"
            ]
          },
          "metadata": {
            "tags": []
          },
          "execution_count": 30
        },
        {
          "output_type": "display_data",
          "data": {
            "image/png": "[encoded data removed]",
            "text/plain": [
              "<Figure size 432x288 with 1 Axes>"
            ]
          },
          "metadata": {
            "tags": []
          }
        }
      ]
    },
    {
      "cell_type": "code",
      "metadata": {
        "id": "0thR_gAtI97O",
        "colab_type": "code",
        "colab": {
          "base_uri": "https://localhost:8080/",
          "height": 286
        },
        "outputId": "14cee50f-c156-4969-cbce-d298f10aed30"
      },
      "source": [
        "plt.bar(df.Density.value_counts().index, df.Density.value_counts().values)"
      ],
      "execution_count": 22,
      "outputs": [
        {
          "output_type": "execute_result",
          "data": {
            "text/plain": [
              "<BarContainer object of 18 artists>"
            ]
          },
          "metadata": {
            "tags": []
          },
          "execution_count": 22
        },
        {
          "output_type": "display_data",
          "data": {
            "image/png": "[encoded data removed]",
            "text/plain": [
              "<Figure size 432x288 with 1 Axes>"
            ]
          },
          "metadata": {
            "tags": []
          }
        }
      ]
    },
    {
      "cell_type": "code",
      "metadata": {
        "id": "wgww9OR_JfPf",
        "colab_type": "code",
        "colab": {
          "base_uri": "https://localhost:8080/",
          "height": 694
        },
        "outputId": "f611e6e2-5f6d-4908-d780-bcb20f880317"
      },
      "source": [
        "print(df.Convg.value_counts())\n",
        "plt.hist(df.Convg)"
      ],
      "execution_count": 29,
      "outputs": [
        {
          "output_type": "stream",
          "text": [
            "1     5\n",
            "3     4\n",
            "2     3\n",
            "6     3\n",
            "11    2\n",
            "5     2\n",
            "10    2\n",
            "4     1\n",
            "7     1\n",
            "8     1\n",
            "43    1\n",
            "41    1\n",
            "15    1\n",
            "19    1\n",
            "20    1\n",
            "22    1\n",
            "29    1\n",
            "35    1\n",
            "36    1\n",
            "37    1\n",
            "14    1\n",
            "Name: Convg, dtype: int64\n"
          ],
          "name": "stdout"
        },
        {
          "output_type": "execute_result",
          "data": {
            "text/plain": [
              "(array([15.,  5.,  4.,  2.,  2.,  1.,  1.,  0.,  3.,  2.]),\n",
              " array([ 1. ,  5.2,  9.4, 13.6, 17.8, 22. , 26.2, 30.4, 34.6, 38.8, 43. ]),\n",
              " <a list of 10 Patch objects>)"
            ]
          },
          "metadata": {
            "tags": []
          },
          "execution_count": 29
        },
        {
          "output_type": "display_data",
          "data": {
            "image/png": "[encoded data removed]",
            "text/plain": [
              "<Figure size 432x288 with 1 Axes>"
            ]
          },
          "metadata": {
            "tags": []
          }
        }
      ]
    },
    {
      "cell_type": "code",
      "metadata": {
        "id": "c-hiO5fpJjQs",
        "colab_type": "code",
        "colab": {
          "base_uri": "https://localhost:8080/",
          "height": 286
        },
        "outputId": "169c9fa6-b834-4271-b708-f240c4f71db1"
      },
      "source": [
        "plt.bar(df.Convg.value_counts().index, df.Convg.value_counts().values)"
      ],
      "execution_count": 24,
      "outputs": [
        {
          "output_type": "execute_result",
          "data": {
            "text/plain": [
              "<BarContainer object of 21 artists>"
            ]
          },
          "metadata": {
            "tags": []
          },
          "execution_count": 24
        },
        {
          "output_type": "display_data",
          "data": {
            "image/png": "[encoded data removed]",
            "text/plain": [
              "<Figure size 432x288 with 1 Axes>"
            ]
          },
          "metadata": {
            "tags": []
          }
        }
      ]
    },
    {
      "cell_type": "code",
      "metadata": {
        "id": "qdb_4p90Jpyt",
        "colab_type": "code",
        "colab": {
          "base_uri": "https://localhost:8080/",
          "height": 779
        },
        "outputId": "713a0a0d-5922-40ef-fabf-c0aa17b368a5"
      },
      "source": [
        "print(df.Root.value_counts())\n",
        "plt.hist(df.Root)"
      ],
      "execution_count": 33,
      "outputs": [
        {
          "output_type": "stream",
          "text": [
            "9.750     3\n",
            "8.750     3\n",
            "8.400     2\n",
            "10.000    2\n",
            "9.600     2\n",
            "4.500     2\n",
            "9.700     2\n",
            "8.500     2\n",
            "9.850     1\n",
            "8.115     1\n",
            "9.500     1\n",
            "10.500    1\n",
            "9.150     1\n",
            "9.250     1\n",
            "8.950     1\n",
            "9.900     1\n",
            "8.600     1\n",
            "8.800     1\n",
            "10.200    1\n",
            "9.450     1\n",
            "10.100    1\n",
            "8.150     1\n",
            "9.300     1\n",
            "10.600    1\n",
            "8.000     1\n",
            "Name: Root, dtype: int64\n"
          ],
          "name": "stdout"
        },
        {
          "output_type": "execute_result",
          "data": {
            "text/plain": [
              "(array([ 2.,  0.,  0.,  0.,  0.,  3.,  8.,  5., 11.,  6.]),\n",
              " array([ 4.5 ,  5.11,  5.72,  6.33,  6.94,  7.55,  8.16,  8.77,  9.38,\n",
              "         9.99, 10.6 ]),\n",
              " <a list of 10 Patch objects>)"
            ]
          },
          "metadata": {
            "tags": []
          },
          "execution_count": 33
        },
        {
          "output_type": "display_data",
          "data": {
            "image/png": "[encoded data removed]",
            "text/plain": [
              "<Figure size 432x288 with 1 Axes>"
            ]
          },
          "metadata": {
            "tags": []
          }
        }
      ]
    },
    {
      "cell_type": "code",
      "metadata": {
        "id": "vbJMmiIQJ43m",
        "colab_type": "code",
        "colab": {
          "base_uri": "https://localhost:8080/",
          "height": 286
        },
        "outputId": "6c08a0ec-ceba-474b-8114-5588c3a2abbb"
      },
      "source": [
        "plt.bar(df.Root.value_counts().index, df.Root.value_counts().values)"
      ],
      "execution_count": 34,
      "outputs": [
        {
          "output_type": "execute_result",
          "data": {
            "text/plain": [
              "<BarContainer object of 25 artists>"
            ]
          },
          "metadata": {
            "tags": []
          },
          "execution_count": 34
        },
        {
          "output_type": "display_data",
          "data": {
            "image/png": "[encoded data removed]",
            "text/plain": [
              "<Figure size 432x288 with 1 Axes>"
            ]
          },
          "metadata": {
            "tags": []
          }
        }
      ]
    },
    {
      "cell_type": "code",
      "metadata": {
        "id": "bBacbaQkKDuQ",
        "colab_type": "code",
        "colab": {}
      },
      "source": [
        ""
      ],
      "execution_count": 0,
      "outputs": []
    }
  ]
}